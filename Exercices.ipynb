{
 "cells": [
  {
   "cell_type": "code",
   "execution_count": 10,
   "metadata": {},
   "outputs": [],
   "source": [
    "class CompteBancaire() : \n",
    "    \n",
    "    def __init__(self, owner=\"Dupont\", balance=1000) :\n",
    "        self.balance = balance\n",
    "        self.owner = owner\n",
    "        \n",
    "    def affiche(self) :\n",
    "        print (\"Le solde du compte bancaire de \",self.owner,\" est de \",self.balance)\n",
    "        \n",
    "    def retrait(self, v) :\n",
    "        self.prev = self.balance\n",
    "        self.balance = self.prev - v\n",
    "        \n",
    "    def depot(self, v) :\n",
    "        self.prev = self.balance\n",
    "        self.balance = self.prev + v"
   ]
  },
  {
   "cell_type": "code",
   "execution_count": 11,
   "metadata": {},
   "outputs": [
    {
     "name": "stdout",
     "output_type": "stream",
     "text": [
      "Le solde du compte bancaire de  Bernard  est de  6184\n",
      "Le solde du compte bancaire de  Dupont  est de  753\n"
     ]
    }
   ],
   "source": [
    "compte1 = CompteBancaire('Bernard', 1384)\n",
    "compte1.retrait(200)\n",
    "compte1.depot(5000)\n",
    "compte1.affiche()\n",
    "\n",
    "compte2 = CompteBancaire()\n",
    "compte2.retrait(384)\n",
    "compte2.depot(137)\n",
    "compte2.affiche()"
   ]
  },
  {
   "cell_type": "code",
   "execution_count": 20,
   "metadata": {},
   "outputs": [],
   "source": [
    "class Point() : \n",
    "    \n",
    "    def __init__(self, x, y, z=None) :\n",
    "        self.x = x\n",
    "        self.y = y\n",
    "        self.z = z\n",
    "        \n",
    "    def ToString(self) :\n",
    "        if self.z == None :\n",
    "            print (\"P(\",self.x,\",\",self.y,\")\")\n",
    "        else :\n",
    "            print (\"P(\",self.x,\",\",self.y,\",\",self.z,\")\")"
   ]
  },
  {
   "cell_type": "code",
   "execution_count": 21,
   "metadata": {},
   "outputs": [
    {
     "name": "stdout",
     "output_type": "stream",
     "text": [
      "P( 2 , 3 )\n",
      "P( 1 , -5 , 6 )\n"
     ]
    }
   ],
   "source": [
    "P1=Point(2,3)\n",
    "P1.ToString()\n",
    "P2=Point(1,-5,6)\n",
    "P2.ToString()"
   ]
  },
  {
   "cell_type": "code",
   "execution_count": 53,
   "metadata": {},
   "outputs": [],
   "source": [
    "class DateNaissance() : \n",
    "    \n",
    "    def __init__(self, day, month, year) :\n",
    "        self.day = day\n",
    "        self.month = month\n",
    "        self.year = year\n",
    "        \n",
    "    def __str__(self):\n",
    "        return '%s / %s / %s' % (self.day, self.month, self.year)\n",
    "        \n",
    "    def ToString(self) :\n",
    "        print (self.day,\"/\",self.month,\"/\",self.year,\"/\",self.date)\n",
    "        \n",
    "class Personne() : \n",
    "    \n",
    "    def __init__(self, name, firstname, DateNaissance) :\n",
    "        self.name = name\n",
    "        self.firstname = firstname\n",
    "        self.date = DateNaissance\n",
    "        \n",
    "    def afficher(self) :\n",
    "        print (\"Nom :\",self.name,\"Prenom:\",self.firstname,\"Date de naissance\",self.date)\n",
    "        \n",
    "class Employe(Personne) : \n",
    "    \n",
    "    def __init__(self, name, firstname, DateNaissance, salary) :\n",
    "        self.name = name\n",
    "        self.firstname = firstname\n",
    "        self.date = DateNaissance\n",
    "        self.salary = salary\n",
    "        \n",
    "    def afficher(self) :\n",
    "        print (\"Nom :\",self.name,\"Prenom:\",self.firstname,\"Date de naissance\",self.date,\"Salaire :\",self.salary)\n",
    "        \n",
    "class Chef(Personne) : \n",
    "    \n",
    "    def __init__(self, name, firstname, DateNaissance, salary, service) :\n",
    "        self.name = name\n",
    "        self.firstname = firstname\n",
    "        self.date = DateNaissance\n",
    "        self.salary = salary\n",
    "        self.service = service\n",
    "        \n",
    "    def afficher(self) :\n",
    "        print (\"Nom :\",self.name,\"Prenom:\",self.firstname,\"Date de naissance\",self.date,\"Salaire :\",self.salary,\"Service :\",self.service)"
   ]
  },
  {
   "cell_type": "code",
   "execution_count": 54,
   "metadata": {},
   "outputs": [
    {
     "name": "stdout",
     "output_type": "stream",
     "text": [
      "Nom : Ilyass Prenom: Math Date de naissance 1 / 7 / 1982\n",
      "Nom : Ilyass Prenom: Math Date de naissance 1 / 7 / 1982 Salaire : 7865.548\n",
      "Nom : Ilyass Prenom: Math Date de naissance 1 / 7 / 1982 Salaire : 7865.548 Service : Ressources humaines\n"
     ]
    }
   ],
   "source": [
    "P=Personne('Ilyass','Math',DateNaissance(1,7,1982))\n",
    "P.afficher()\n",
    "\n",
    "E=Employe('Ilyass','Math',DateNaissance(1,7,1982),7865.548)\n",
    "E.afficher()\n",
    "\n",
    "Ch=Chef('Ilyass','Math',DateNaissance(1,7,1982),7865.548,'Ressources humaines')\n",
    "Ch.afficher()"
   ]
  },
  {
   "cell_type": "code",
   "execution_count": null,
   "metadata": {},
   "outputs": [],
   "source": []
  }
 ],
 "metadata": {
  "kernelspec": {
   "display_name": "Python 3",
   "language": "python",
   "name": "python3"
  },
  "language_info": {
   "codemirror_mode": {
    "name": "ipython",
    "version": 3
   },
   "file_extension": ".py",
   "mimetype": "text/x-python",
   "name": "python",
   "nbconvert_exporter": "python",
   "pygments_lexer": "ipython3",
   "version": "3.7.5"
  }
 },
 "nbformat": 4,
 "nbformat_minor": 4
}
